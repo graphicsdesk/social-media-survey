{
 "cells": [
  {
   "cell_type": "markdown",
   "metadata": {},
   "source": [
    "**Guiding question: How expensive are local food businesses?**\n",
    "\n",
    "This notebook is where we will fetch all the Yelp data. If you haven't already, please watch this [short introduction](https://www.youtube.com/watch?v=jZ952vChhuI) to the Jupyter Notebook.\n",
    "\n",
    "Read through this code, and its documentation, carefully."
   ]
  },
  {
   "cell_type": "code",
   "execution_count": null,
   "metadata": {},
   "outputs": [],
   "source": [
    "# First we import the libraries we'll need for this analysis:\n",
    "# requests is used to make HTTP requests and get data back from the Yelp API's endpoints\n",
    "import requests"
   ]
  },
  {
   "cell_type": "code",
   "execution_count": null,
   "metadata": {},
   "outputs": [],
   "source": [
    "# Define the constants we will be using, like the API endpoint and your API key:\n",
    "YELP_ENDPOINT = 'https://api.yelp.com/v3/graphql'\n",
    "\n",
    "# Replace my API key with yours\n",
    "API_KEY = 'tyTF9Kd4pavZvr124_WJkrJnkFNFjeJwMH0FOelrNtuCKxdAk6I3TknvLJrPNZ-XyXtPjfO4XAx4RTM-yrk7QlP5NVeZC5LJ5EMObtYLemUZANyIr9mjEwITYeCPXXYx'\n",
    "\n",
    "# Pro tip: Constants are usually named LIKE_THIS. Regular variables are usually named like_this."
   ]
  },
  {
   "cell_type": "markdown",
   "metadata": {},
   "source": [
    "The function in the next cell, `request_data`, accepts a GraphQL query string as its argument. The function asks the Yelp GraphQL endpoint for data using that query string, and then it returns the data that was received."
   ]
  },
  {
   "cell_type": "code",
   "execution_count": null,
   "metadata": {},
   "outputs": [],
   "source": [
    "def request_data(query_string):\n",
    "    # Ask the Yelp API to get us this data based on the query_string\n",
    "    response = requests.post(\n",
    "        url = YELP_ENDPOINT,\n",
    "        data = { 'query': query_string },\n",
    "        headers = { 'Authorization': 'Bearer ' + API_KEY }\n",
    "    )\n",
    "    return response.json() # Extracts the response's JSON content as a dictionary"
   ]
  },
  {
   "cell_type": "markdown",
   "metadata": {},
   "source": [
    "The next cell provides an example of how to use this function.\n",
    "\n",
    "Note: The `%` operator in the `example_query_string` below substitutes the `%d` placeholder with the value of the `example_offset` variable. Formatting strings by substituting variables is called _string interpolation_. The `f'...'` string in the first `print` statement is another way to interpolate strings."
   ]
  },
  {
   "cell_type": "code",
   "execution_count": 6,
   "metadata": {
    "scrolled": true
   },
   "outputs": [
    {
     "name": "stdout",
     "output_type": "stream",
     "text": [
      "There are 1304 total businesses. We received 20:\n"
     ]
    },
    {
     "data": {
      "text/plain": [
       "[{'phone': '+12128664500',\n",
       "  'price': '$$',\n",
       "  'name': 'Harlem Tavern',\n",
       "  'coordinates': {'longitude': -73.95558, 'latitude': 40.8046999}},\n",
       " {'phone': '+12126652800',\n",
       "  'price': '$$',\n",
       "  'name': 'Community Food & Juice',\n",
       "  'coordinates': {'longitude': -73.9656753540039,\n",
       "   'latitude': 40.8057975769043}},\n",
       " {'phone': '+12128664230',\n",
       "  'price': '$',\n",
       "  'name': 'Hungarian Pastry Shop',\n",
       "  'coordinates': {'longitude': -73.96365, 'latitude': 40.80358}},\n",
       " {'phone': '+16469284870',\n",
       "  'price': '$$',\n",
       "  'name': 'Sottocasa Pizzeria - Harlem',\n",
       "  'coordinates': {'longitude': -73.947547, 'latitude': 40.805587}},\n",
       " {'phone': '+12122222636',\n",
       "  'price': '$',\n",
       "  'name': 'Doaba Deli',\n",
       "  'coordinates': {'longitude': -73.9624, 'latitude': 40.7994}},\n",
       " {'phone': '+12126630505',\n",
       "  'price': '$$',\n",
       "  'name': 'Massawa',\n",
       "  'coordinates': {'longitude': -73.95856, 'latitude': 40.8099}},\n",
       " {'phone': '+12128703070',\n",
       "  'price': None,\n",
       "  'name': 'Riverside Park Conservancy',\n",
       "  'coordinates': {'longitude': -73.9638738, 'latitude': 40.8111312}},\n",
       " {'phone': '+12126628462',\n",
       "  'price': '$$',\n",
       "  'name': 'VINATERÍA',\n",
       "  'coordinates': {'longitude': -73.9540110111145,\n",
       "   'latitude': 40.8064392068585}},\n",
       " {'phone': '+16469644252',\n",
       "  'price': '$$',\n",
       "  'name': 'Safari Restaurant NYC',\n",
       "  'coordinates': {'longitude': -73.9535, 'latitude': 40.80381}},\n",
       " {'phone': '+12123167540',\n",
       "  'price': None,\n",
       "  'name': 'Cathedral Church of St John the Divine',\n",
       "  'coordinates': {'longitude': -73.9631203, 'latitude': 40.8037049}},\n",
       " {'phone': '+18336982267',\n",
       "  'price': '$$',\n",
       "  'name': 'Cantina Taqueria & Tequila Bar',\n",
       "  'coordinates': {'longitude': -73.9549569049235,\n",
       "   'latitude': 40.8003063353508}},\n",
       " {'phone': '+19174936633',\n",
       "  'price': '$',\n",
       "  'name': \"Lee Lee's Baked Goods\",\n",
       "  'coordinates': {'longitude': -73.95408, 'latitude': 40.8057}},\n",
       " {'phone': '+12126620620',\n",
       "  'price': '$$',\n",
       "  'name': 'Zoma',\n",
       "  'coordinates': {'longitude': -73.956537, 'latitude': 40.802258}},\n",
       " {'phone': '+12125315300',\n",
       "  'price': '$$',\n",
       "  'name': 'Cafe at Apollo',\n",
       "  'coordinates': {'longitude': -73.95013, 'latitude': 40.80991}},\n",
       " {'phone': '+12122895895',\n",
       "  'price': '$$$',\n",
       "  'name': 'Ricardo Steak House',\n",
       "  'coordinates': {'longitude': -73.940475679068,\n",
       "   'latitude': 40.7934520370731}},\n",
       " {'phone': '+12126622030',\n",
       "  'price': '$$',\n",
       "  'name': '67 Orange Street',\n",
       "  'coordinates': {'longitude': -73.9567852020264,\n",
       "   'latitude': 40.8022697271481}},\n",
       " {'phone': '+12122802248',\n",
       "  'price': '$$',\n",
       "  'name': 'B2 Harlem',\n",
       "  'coordinates': {'longitude': -73.95317, 'latitude': 40.80613}},\n",
       " {'phone': '+12122220259',\n",
       "  'price': '$$',\n",
       "  'name': 'Crepes on Columbus',\n",
       "  'coordinates': {'longitude': -73.96178, 'latitude': 40.80104}},\n",
       " {'phone': '+12128371057',\n",
       "  'price': '$$',\n",
       "  'name': 'Serengeti Teas & Spices',\n",
       "  'coordinates': {'longitude': -73.94127, 'latitude': 40.80582}},\n",
       " {'phone': '+12122221566',\n",
       "  'price': '$',\n",
       "  'name': 'Koronet Pizza',\n",
       "  'coordinates': {'longitude': -73.966056, 'latitude': 40.80442}}]"
      ]
     },
     "execution_count": 6,
     "metadata": {},
     "output_type": "execute_result"
    }
   ],
   "source": [
    "example_offset = 20\n",
    "example_query_string = \"\"\"\n",
    "{\n",
    "    search(location: \"70 Morningisde Drive\", offset: %d) {\n",
    "        total\n",
    "        business {\n",
    "            phone\n",
    "            price\n",
    "            name\n",
    "            coordinates {\n",
    "              longitude\n",
    "              latitude\n",
    "            }\n",
    "        }\n",
    "    }\n",
    "}\n",
    "\"\"\" % example_offset\n",
    "\n",
    "data = request_data(example_query_string)\n",
    "total_num_results = data['data']['search']['total']\n",
    "businesses = data['data']['search']['business']\n",
    "\n",
    "print(f'There are {total_num_results} total businesses. We received {len(businesses)}:')\n",
    "businesses"
   ]
  },
  {
   "cell_type": "markdown",
   "metadata": {},
   "source": [
    "Now it's your turn: Use the `request_data` function to get all the businesses up to some total number. In the next two cells, I've provided some code snippets you might find helpful:\n",
    "\n",
    "1. While loops and string interpolation, which will help you generate query strings and get data from the API\n",
    "2. Adding lists together, which will help you aggregate all the businesses you get into one big list"
   ]
  },
  {
   "cell_type": "code",
   "execution_count": 9,
   "metadata": {},
   "outputs": [
    {
     "name": "stdout",
     "output_type": "stream",
     "text": [
      "The offset is now 0.\n",
      "The offset is now 20.\n",
      "The offset is now 40.\n",
      "The offset is now 60.\n",
      "The offset is now 80.\n",
      "The offset is now 100.\n",
      "The offset is now 120.\n",
      "The offset is now 140.\n",
      "The offset is now 160.\n",
      "The offset is now 180.\n"
     ]
    }
   ],
   "source": [
    "LIMIT = 20 # The number of business results that are returned in one API call\n",
    "\n",
    "total_businesses = 200 # It's not 200! You have to change this total number based on the first request you make\n",
    "offset = 0 # The initial offset.\n",
    "\n",
    "while offset < total_businesses:        \n",
    "    print(f'The offset is now {offset}.')\n",
    "    offset += LIMIT"
   ]
  },
  {
   "cell_type": "code",
   "execution_count": 10,
   "metadata": {},
   "outputs": [
    {
     "name": "stdout",
     "output_type": "stream",
     "text": [
      "The sum of all_businesses, some_data, and more_data is:\n",
      "[1, 2, 3, 4, 5]\n"
     ]
    }
   ],
   "source": [
    "all_businesses = []\n",
    "some_data = [1, 2]\n",
    "more_data = [3, 4, 5]\n",
    "print('The sum of all_businesses, some_data, and more_data is:')\n",
    "print(all_businesses + some_data + more_data)"
   ]
  }
 ],
 "metadata": {
  "kernelspec": {
   "display_name": "Python 3",
   "language": "python",
   "name": "python3"
  },
  "language_info": {
   "codemirror_mode": {
    "name": "ipython",
    "version": 3
   },
   "file_extension": ".py",
   "mimetype": "text/x-python",
   "name": "python",
   "nbconvert_exporter": "python",
   "pygments_lexer": "ipython3",
   "version": "3.7.0"
  }
 },
 "nbformat": 4,
 "nbformat_minor": 2
}
